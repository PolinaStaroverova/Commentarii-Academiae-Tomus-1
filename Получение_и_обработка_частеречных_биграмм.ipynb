{
  "nbformat": 4,
  "nbformat_minor": 0,
  "metadata": {
    "colab": {
      "provenance": []
    },
    "kernelspec": {
      "name": "python3",
      "display_name": "Python 3"
    },
    "language_info": {
      "name": "python"
    },
    "widgets": {
      "application/vnd.jupyter.widget-state+json": {
        "b9e0c216c53a4821974ed9c16c79917b": {
          "model_module": "@jupyter-widgets/controls",
          "model_name": "HBoxModel",
          "model_module_version": "1.5.0",
          "state": {
            "_dom_classes": [],
            "_model_module": "@jupyter-widgets/controls",
            "_model_module_version": "1.5.0",
            "_model_name": "HBoxModel",
            "_view_count": null,
            "_view_module": "@jupyter-widgets/controls",
            "_view_module_version": "1.5.0",
            "_view_name": "HBoxView",
            "box_style": "",
            "children": [
              "IPY_MODEL_073ddc395d8b4fbb901be34d1ecbd695",
              "IPY_MODEL_94cbb8ac82dd43419fa24991c82a468a",
              "IPY_MODEL_30f4320f53e846acaa5ebb303fbe0f80"
            ],
            "layout": "IPY_MODEL_5dfa816e3f7346179401ab256142a92d"
          }
        },
        "073ddc395d8b4fbb901be34d1ecbd695": {
          "model_module": "@jupyter-widgets/controls",
          "model_name": "HTMLModel",
          "model_module_version": "1.5.0",
          "state": {
            "_dom_classes": [],
            "_model_module": "@jupyter-widgets/controls",
            "_model_module_version": "1.5.0",
            "_model_name": "HTMLModel",
            "_view_count": null,
            "_view_module": "@jupyter-widgets/controls",
            "_view_module_version": "1.5.0",
            "_view_name": "HTMLView",
            "description": "",
            "description_tooltip": null,
            "layout": "IPY_MODEL_91465bf69fb64bb1a0d0efcf5d0f0589",
            "placeholder": "​",
            "style": "IPY_MODEL_70cce7bac31546c397b6db5ed2392936",
            "value": "100%"
          }
        },
        "94cbb8ac82dd43419fa24991c82a468a": {
          "model_module": "@jupyter-widgets/controls",
          "model_name": "FloatProgressModel",
          "model_module_version": "1.5.0",
          "state": {
            "_dom_classes": [],
            "_model_module": "@jupyter-widgets/controls",
            "_model_module_version": "1.5.0",
            "_model_name": "FloatProgressModel",
            "_view_count": null,
            "_view_module": "@jupyter-widgets/controls",
            "_view_module_version": "1.5.0",
            "_view_name": "ProgressView",
            "bar_style": "success",
            "description": "",
            "description_tooltip": null,
            "layout": "IPY_MODEL_a51ae6f6cd0a4550a99a103d3d0ae431",
            "max": 163,
            "min": 0,
            "orientation": "horizontal",
            "style": "IPY_MODEL_46f17d5e38e24c1a96f4e8353e65f8eb",
            "value": 163
          }
        },
        "30f4320f53e846acaa5ebb303fbe0f80": {
          "model_module": "@jupyter-widgets/controls",
          "model_name": "HTMLModel",
          "model_module_version": "1.5.0",
          "state": {
            "_dom_classes": [],
            "_model_module": "@jupyter-widgets/controls",
            "_model_module_version": "1.5.0",
            "_model_name": "HTMLModel",
            "_view_count": null,
            "_view_module": "@jupyter-widgets/controls",
            "_view_module_version": "1.5.0",
            "_view_name": "HTMLView",
            "description": "",
            "description_tooltip": null,
            "layout": "IPY_MODEL_916a142166ed4731bbfc89e9048ff0ee",
            "placeholder": "​",
            "style": "IPY_MODEL_7cc190efaf24477c8aa2640adc3f22c5",
            "value": " 163/163 [00:00&lt;00:00, 5292.31it/s]"
          }
        },
        "5dfa816e3f7346179401ab256142a92d": {
          "model_module": "@jupyter-widgets/base",
          "model_name": "LayoutModel",
          "model_module_version": "1.2.0",
          "state": {
            "_model_module": "@jupyter-widgets/base",
            "_model_module_version": "1.2.0",
            "_model_name": "LayoutModel",
            "_view_count": null,
            "_view_module": "@jupyter-widgets/base",
            "_view_module_version": "1.2.0",
            "_view_name": "LayoutView",
            "align_content": null,
            "align_items": null,
            "align_self": null,
            "border": null,
            "bottom": null,
            "display": null,
            "flex": null,
            "flex_flow": null,
            "grid_area": null,
            "grid_auto_columns": null,
            "grid_auto_flow": null,
            "grid_auto_rows": null,
            "grid_column": null,
            "grid_gap": null,
            "grid_row": null,
            "grid_template_areas": null,
            "grid_template_columns": null,
            "grid_template_rows": null,
            "height": null,
            "justify_content": null,
            "justify_items": null,
            "left": null,
            "margin": null,
            "max_height": null,
            "max_width": null,
            "min_height": null,
            "min_width": null,
            "object_fit": null,
            "object_position": null,
            "order": null,
            "overflow": null,
            "overflow_x": null,
            "overflow_y": null,
            "padding": null,
            "right": null,
            "top": null,
            "visibility": null,
            "width": null
          }
        },
        "91465bf69fb64bb1a0d0efcf5d0f0589": {
          "model_module": "@jupyter-widgets/base",
          "model_name": "LayoutModel",
          "model_module_version": "1.2.0",
          "state": {
            "_model_module": "@jupyter-widgets/base",
            "_model_module_version": "1.2.0",
            "_model_name": "LayoutModel",
            "_view_count": null,
            "_view_module": "@jupyter-widgets/base",
            "_view_module_version": "1.2.0",
            "_view_name": "LayoutView",
            "align_content": null,
            "align_items": null,
            "align_self": null,
            "border": null,
            "bottom": null,
            "display": null,
            "flex": null,
            "flex_flow": null,
            "grid_area": null,
            "grid_auto_columns": null,
            "grid_auto_flow": null,
            "grid_auto_rows": null,
            "grid_column": null,
            "grid_gap": null,
            "grid_row": null,
            "grid_template_areas": null,
            "grid_template_columns": null,
            "grid_template_rows": null,
            "height": null,
            "justify_content": null,
            "justify_items": null,
            "left": null,
            "margin": null,
            "max_height": null,
            "max_width": null,
            "min_height": null,
            "min_width": null,
            "object_fit": null,
            "object_position": null,
            "order": null,
            "overflow": null,
            "overflow_x": null,
            "overflow_y": null,
            "padding": null,
            "right": null,
            "top": null,
            "visibility": null,
            "width": null
          }
        },
        "70cce7bac31546c397b6db5ed2392936": {
          "model_module": "@jupyter-widgets/controls",
          "model_name": "DescriptionStyleModel",
          "model_module_version": "1.5.0",
          "state": {
            "_model_module": "@jupyter-widgets/controls",
            "_model_module_version": "1.5.0",
            "_model_name": "DescriptionStyleModel",
            "_view_count": null,
            "_view_module": "@jupyter-widgets/base",
            "_view_module_version": "1.2.0",
            "_view_name": "StyleView",
            "description_width": ""
          }
        },
        "a51ae6f6cd0a4550a99a103d3d0ae431": {
          "model_module": "@jupyter-widgets/base",
          "model_name": "LayoutModel",
          "model_module_version": "1.2.0",
          "state": {
            "_model_module": "@jupyter-widgets/base",
            "_model_module_version": "1.2.0",
            "_model_name": "LayoutModel",
            "_view_count": null,
            "_view_module": "@jupyter-widgets/base",
            "_view_module_version": "1.2.0",
            "_view_name": "LayoutView",
            "align_content": null,
            "align_items": null,
            "align_self": null,
            "border": null,
            "bottom": null,
            "display": null,
            "flex": null,
            "flex_flow": null,
            "grid_area": null,
            "grid_auto_columns": null,
            "grid_auto_flow": null,
            "grid_auto_rows": null,
            "grid_column": null,
            "grid_gap": null,
            "grid_row": null,
            "grid_template_areas": null,
            "grid_template_columns": null,
            "grid_template_rows": null,
            "height": null,
            "justify_content": null,
            "justify_items": null,
            "left": null,
            "margin": null,
            "max_height": null,
            "max_width": null,
            "min_height": null,
            "min_width": null,
            "object_fit": null,
            "object_position": null,
            "order": null,
            "overflow": null,
            "overflow_x": null,
            "overflow_y": null,
            "padding": null,
            "right": null,
            "top": null,
            "visibility": null,
            "width": null
          }
        },
        "46f17d5e38e24c1a96f4e8353e65f8eb": {
          "model_module": "@jupyter-widgets/controls",
          "model_name": "ProgressStyleModel",
          "model_module_version": "1.5.0",
          "state": {
            "_model_module": "@jupyter-widgets/controls",
            "_model_module_version": "1.5.0",
            "_model_name": "ProgressStyleModel",
            "_view_count": null,
            "_view_module": "@jupyter-widgets/base",
            "_view_module_version": "1.2.0",
            "_view_name": "StyleView",
            "bar_color": null,
            "description_width": ""
          }
        },
        "916a142166ed4731bbfc89e9048ff0ee": {
          "model_module": "@jupyter-widgets/base",
          "model_name": "LayoutModel",
          "model_module_version": "1.2.0",
          "state": {
            "_model_module": "@jupyter-widgets/base",
            "_model_module_version": "1.2.0",
            "_model_name": "LayoutModel",
            "_view_count": null,
            "_view_module": "@jupyter-widgets/base",
            "_view_module_version": "1.2.0",
            "_view_name": "LayoutView",
            "align_content": null,
            "align_items": null,
            "align_self": null,
            "border": null,
            "bottom": null,
            "display": null,
            "flex": null,
            "flex_flow": null,
            "grid_area": null,
            "grid_auto_columns": null,
            "grid_auto_flow": null,
            "grid_auto_rows": null,
            "grid_column": null,
            "grid_gap": null,
            "grid_row": null,
            "grid_template_areas": null,
            "grid_template_columns": null,
            "grid_template_rows": null,
            "height": null,
            "justify_content": null,
            "justify_items": null,
            "left": null,
            "margin": null,
            "max_height": null,
            "max_width": null,
            "min_height": null,
            "min_width": null,
            "object_fit": null,
            "object_position": null,
            "order": null,
            "overflow": null,
            "overflow_x": null,
            "overflow_y": null,
            "padding": null,
            "right": null,
            "top": null,
            "visibility": null,
            "width": null
          }
        },
        "7cc190efaf24477c8aa2640adc3f22c5": {
          "model_module": "@jupyter-widgets/controls",
          "model_name": "DescriptionStyleModel",
          "model_module_version": "1.5.0",
          "state": {
            "_model_module": "@jupyter-widgets/controls",
            "_model_module_version": "1.5.0",
            "_model_name": "DescriptionStyleModel",
            "_view_count": null,
            "_view_module": "@jupyter-widgets/base",
            "_view_module_version": "1.2.0",
            "_view_name": "StyleView",
            "description_width": ""
          }
        },
        "04645535f6aa49ff8b486b6feb09eef6": {
          "model_module": "@jupyter-widgets/controls",
          "model_name": "HBoxModel",
          "model_module_version": "1.5.0",
          "state": {
            "_dom_classes": [],
            "_model_module": "@jupyter-widgets/controls",
            "_model_module_version": "1.5.0",
            "_model_name": "HBoxModel",
            "_view_count": null,
            "_view_module": "@jupyter-widgets/controls",
            "_view_module_version": "1.5.0",
            "_view_name": "HBoxView",
            "box_style": "",
            "children": [
              "IPY_MODEL_ff28671d99c948f397c7f23815ce41f0",
              "IPY_MODEL_f6902cf6c69e402ca7b78527d4249e17",
              "IPY_MODEL_f2f316ce3c73424691457ea5b4be191b"
            ],
            "layout": "IPY_MODEL_52a9eb00c8154853a4919f34061ca401"
          }
        },
        "ff28671d99c948f397c7f23815ce41f0": {
          "model_module": "@jupyter-widgets/controls",
          "model_name": "HTMLModel",
          "model_module_version": "1.5.0",
          "state": {
            "_dom_classes": [],
            "_model_module": "@jupyter-widgets/controls",
            "_model_module_version": "1.5.0",
            "_model_name": "HTMLModel",
            "_view_count": null,
            "_view_module": "@jupyter-widgets/controls",
            "_view_module_version": "1.5.0",
            "_view_name": "HTMLView",
            "description": "",
            "description_tooltip": null,
            "layout": "IPY_MODEL_90d58782c0be48ad8bbbfa1f1e81877e",
            "placeholder": "​",
            "style": "IPY_MODEL_7555055736f946569f744c090b5acfad",
            "value": "100%"
          }
        },
        "f6902cf6c69e402ca7b78527d4249e17": {
          "model_module": "@jupyter-widgets/controls",
          "model_name": "FloatProgressModel",
          "model_module_version": "1.5.0",
          "state": {
            "_dom_classes": [],
            "_model_module": "@jupyter-widgets/controls",
            "_model_module_version": "1.5.0",
            "_model_name": "FloatProgressModel",
            "_view_count": null,
            "_view_module": "@jupyter-widgets/controls",
            "_view_module_version": "1.5.0",
            "_view_name": "ProgressView",
            "bar_style": "success",
            "description": "",
            "description_tooltip": null,
            "layout": "IPY_MODEL_7ec2fbc9e62d4fa4976ed18da74eb9fb",
            "max": 1169,
            "min": 0,
            "orientation": "horizontal",
            "style": "IPY_MODEL_b0e4465ad21c4a47a086d220a5446c65",
            "value": 1169
          }
        },
        "f2f316ce3c73424691457ea5b4be191b": {
          "model_module": "@jupyter-widgets/controls",
          "model_name": "HTMLModel",
          "model_module_version": "1.5.0",
          "state": {
            "_dom_classes": [],
            "_model_module": "@jupyter-widgets/controls",
            "_model_module_version": "1.5.0",
            "_model_name": "HTMLModel",
            "_view_count": null,
            "_view_module": "@jupyter-widgets/controls",
            "_view_module_version": "1.5.0",
            "_view_name": "HTMLView",
            "description": "",
            "description_tooltip": null,
            "layout": "IPY_MODEL_38242bb8cf7448849f58f7380a30f957",
            "placeholder": "​",
            "style": "IPY_MODEL_8e801aaa619b40cdba9b683657718245",
            "value": " 1169/1169 [00:00&lt;00:00, 36350.80it/s]"
          }
        },
        "52a9eb00c8154853a4919f34061ca401": {
          "model_module": "@jupyter-widgets/base",
          "model_name": "LayoutModel",
          "model_module_version": "1.2.0",
          "state": {
            "_model_module": "@jupyter-widgets/base",
            "_model_module_version": "1.2.0",
            "_model_name": "LayoutModel",
            "_view_count": null,
            "_view_module": "@jupyter-widgets/base",
            "_view_module_version": "1.2.0",
            "_view_name": "LayoutView",
            "align_content": null,
            "align_items": null,
            "align_self": null,
            "border": null,
            "bottom": null,
            "display": null,
            "flex": null,
            "flex_flow": null,
            "grid_area": null,
            "grid_auto_columns": null,
            "grid_auto_flow": null,
            "grid_auto_rows": null,
            "grid_column": null,
            "grid_gap": null,
            "grid_row": null,
            "grid_template_areas": null,
            "grid_template_columns": null,
            "grid_template_rows": null,
            "height": null,
            "justify_content": null,
            "justify_items": null,
            "left": null,
            "margin": null,
            "max_height": null,
            "max_width": null,
            "min_height": null,
            "min_width": null,
            "object_fit": null,
            "object_position": null,
            "order": null,
            "overflow": null,
            "overflow_x": null,
            "overflow_y": null,
            "padding": null,
            "right": null,
            "top": null,
            "visibility": null,
            "width": null
          }
        },
        "90d58782c0be48ad8bbbfa1f1e81877e": {
          "model_module": "@jupyter-widgets/base",
          "model_name": "LayoutModel",
          "model_module_version": "1.2.0",
          "state": {
            "_model_module": "@jupyter-widgets/base",
            "_model_module_version": "1.2.0",
            "_model_name": "LayoutModel",
            "_view_count": null,
            "_view_module": "@jupyter-widgets/base",
            "_view_module_version": "1.2.0",
            "_view_name": "LayoutView",
            "align_content": null,
            "align_items": null,
            "align_self": null,
            "border": null,
            "bottom": null,
            "display": null,
            "flex": null,
            "flex_flow": null,
            "grid_area": null,
            "grid_auto_columns": null,
            "grid_auto_flow": null,
            "grid_auto_rows": null,
            "grid_column": null,
            "grid_gap": null,
            "grid_row": null,
            "grid_template_areas": null,
            "grid_template_columns": null,
            "grid_template_rows": null,
            "height": null,
            "justify_content": null,
            "justify_items": null,
            "left": null,
            "margin": null,
            "max_height": null,
            "max_width": null,
            "min_height": null,
            "min_width": null,
            "object_fit": null,
            "object_position": null,
            "order": null,
            "overflow": null,
            "overflow_x": null,
            "overflow_y": null,
            "padding": null,
            "right": null,
            "top": null,
            "visibility": null,
            "width": null
          }
        },
        "7555055736f946569f744c090b5acfad": {
          "model_module": "@jupyter-widgets/controls",
          "model_name": "DescriptionStyleModel",
          "model_module_version": "1.5.0",
          "state": {
            "_model_module": "@jupyter-widgets/controls",
            "_model_module_version": "1.5.0",
            "_model_name": "DescriptionStyleModel",
            "_view_count": null,
            "_view_module": "@jupyter-widgets/base",
            "_view_module_version": "1.2.0",
            "_view_name": "StyleView",
            "description_width": ""
          }
        },
        "7ec2fbc9e62d4fa4976ed18da74eb9fb": {
          "model_module": "@jupyter-widgets/base",
          "model_name": "LayoutModel",
          "model_module_version": "1.2.0",
          "state": {
            "_model_module": "@jupyter-widgets/base",
            "_model_module_version": "1.2.0",
            "_model_name": "LayoutModel",
            "_view_count": null,
            "_view_module": "@jupyter-widgets/base",
            "_view_module_version": "1.2.0",
            "_view_name": "LayoutView",
            "align_content": null,
            "align_items": null,
            "align_self": null,
            "border": null,
            "bottom": null,
            "display": null,
            "flex": null,
            "flex_flow": null,
            "grid_area": null,
            "grid_auto_columns": null,
            "grid_auto_flow": null,
            "grid_auto_rows": null,
            "grid_column": null,
            "grid_gap": null,
            "grid_row": null,
            "grid_template_areas": null,
            "grid_template_columns": null,
            "grid_template_rows": null,
            "height": null,
            "justify_content": null,
            "justify_items": null,
            "left": null,
            "margin": null,
            "max_height": null,
            "max_width": null,
            "min_height": null,
            "min_width": null,
            "object_fit": null,
            "object_position": null,
            "order": null,
            "overflow": null,
            "overflow_x": null,
            "overflow_y": null,
            "padding": null,
            "right": null,
            "top": null,
            "visibility": null,
            "width": null
          }
        },
        "b0e4465ad21c4a47a086d220a5446c65": {
          "model_module": "@jupyter-widgets/controls",
          "model_name": "ProgressStyleModel",
          "model_module_version": "1.5.0",
          "state": {
            "_model_module": "@jupyter-widgets/controls",
            "_model_module_version": "1.5.0",
            "_model_name": "ProgressStyleModel",
            "_view_count": null,
            "_view_module": "@jupyter-widgets/base",
            "_view_module_version": "1.2.0",
            "_view_name": "StyleView",
            "bar_color": null,
            "description_width": ""
          }
        },
        "38242bb8cf7448849f58f7380a30f957": {
          "model_module": "@jupyter-widgets/base",
          "model_name": "LayoutModel",
          "model_module_version": "1.2.0",
          "state": {
            "_model_module": "@jupyter-widgets/base",
            "_model_module_version": "1.2.0",
            "_model_name": "LayoutModel",
            "_view_count": null,
            "_view_module": "@jupyter-widgets/base",
            "_view_module_version": "1.2.0",
            "_view_name": "LayoutView",
            "align_content": null,
            "align_items": null,
            "align_self": null,
            "border": null,
            "bottom": null,
            "display": null,
            "flex": null,
            "flex_flow": null,
            "grid_area": null,
            "grid_auto_columns": null,
            "grid_auto_flow": null,
            "grid_auto_rows": null,
            "grid_column": null,
            "grid_gap": null,
            "grid_row": null,
            "grid_template_areas": null,
            "grid_template_columns": null,
            "grid_template_rows": null,
            "height": null,
            "justify_content": null,
            "justify_items": null,
            "left": null,
            "margin": null,
            "max_height": null,
            "max_width": null,
            "min_height": null,
            "min_width": null,
            "object_fit": null,
            "object_position": null,
            "order": null,
            "overflow": null,
            "overflow_x": null,
            "overflow_y": null,
            "padding": null,
            "right": null,
            "top": null,
            "visibility": null,
            "width": null
          }
        },
        "8e801aaa619b40cdba9b683657718245": {
          "model_module": "@jupyter-widgets/controls",
          "model_name": "DescriptionStyleModel",
          "model_module_version": "1.5.0",
          "state": {
            "_model_module": "@jupyter-widgets/controls",
            "_model_module_version": "1.5.0",
            "_model_name": "DescriptionStyleModel",
            "_view_count": null,
            "_view_module": "@jupyter-widgets/base",
            "_view_module_version": "1.2.0",
            "_view_name": "StyleView",
            "description_width": ""
          }
        }
      }
    }
  },
  "cells": [
    {
      "cell_type": "markdown",
      "source": [
        "Импортируем все нужные библиотеки\n",
        "\n"
      ],
      "metadata": {
        "id": "mijveRzHR8mq"
      }
    },
    {
      "cell_type": "code",
      "source": [
        "pip install cltk"
      ],
      "metadata": {
        "id": "Y3EjvnyHNn3-"
      },
      "execution_count": null,
      "outputs": []
    },
    {
      "cell_type": "code",
      "source": [
        "import cltk"
      ],
      "metadata": {
        "id": "cLHds_WNfSM3"
      },
      "execution_count": null,
      "outputs": []
    },
    {
      "cell_type": "code",
      "source": [
        "from nltk.tokenize import word_tokenize\n",
        "from nltk import download\n",
        "download('punkt')\n",
        "from nltk.tokenize.punkt import PunktLanguageVars\n",
        "from nltk.util import bigrams\n",
        "from nltk.util import trigrams\n",
        "from nltk.util import ngrams"
      ],
      "metadata": {
        "colab": {
          "base_uri": "https://localhost:8080/"
        },
        "id": "Lnp5feGPJgpy",
        "outputId": "a7e81960-5bee-47b7-84dd-1682832a40c1"
      },
      "execution_count": null,
      "outputs": [
        {
          "output_type": "stream",
          "name": "stderr",
          "text": [
            "[nltk_data] Downloading package punkt to /root/nltk_data...\n",
            "[nltk_data]   Unzipping tokenizers/punkt.zip.\n"
          ]
        }
      ]
    },
    {
      "cell_type": "code",
      "source": [
        "from collections import Counter"
      ],
      "metadata": {
        "id": "z1AW9TypKA6j"
      },
      "execution_count": null,
      "outputs": []
    },
    {
      "cell_type": "markdown",
      "source": [
        "Наносим грамматическую разметку, считаем распределение частеречных биграмм и записываем все в датафрейм"
      ],
      "metadata": {
        "id": "9WARV3AmDIXb"
      }
    },
    {
      "cell_type": "code",
      "source": [
        "from cltk import NLP"
      ],
      "metadata": {
        "id": "Z_dJLUUZNpZk"
      },
      "execution_count": null,
      "outputs": []
    },
    {
      "cell_type": "code",
      "source": [
        "from tqdm.notebook import tqdm"
      ],
      "metadata": {
        "id": "iZqP2KoYdIVd"
      },
      "execution_count": null,
      "outputs": []
    },
    {
      "cell_type": "code",
      "source": [
        "import pandas as pd"
      ],
      "metadata": {
        "id": "rJGfffQHgHaA"
      },
      "execution_count": null,
      "outputs": []
    },
    {
      "cell_type": "code",
      "source": [
        "name_of_txt_file = 'Bernoulli N_De motu corporum ex percussione.txt'"
      ],
      "metadata": {
        "id": "_o2kB1yeN0nH"
      },
      "execution_count": null,
      "outputs": []
    },
    {
      "cell_type": "code",
      "source": [
        "with open(name_of_txt_file) as fo:\n",
        "  livy_full = fo.read()\n",
        "print(name_of_txt_file, len(livy_full))"
      ],
      "metadata": {
        "colab": {
          "base_uri": "https://localhost:8080/"
        },
        "id": "lq0pkgF2NsLY",
        "outputId": "914e173b-8218-406f-c411-9a16da4d089a"
      },
      "execution_count": null,
      "outputs": [
        {
          "output_type": "stream",
          "name": "stdout",
          "text": [
            "Bernoulli N_De motu corporum ex percussione.txt 6439\n"
          ]
        }
      ]
    },
    {
      "cell_type": "code",
      "source": [
        "cltk_nlp = NLP(language=\"lat\")\n",
        "cltk_nlp.pipeline.processes.pop(-1)\n",
        "print(cltk_nlp.pipeline.processes)\n",
        "%time cltk_doc = cltk_nlp.analyze(text=livy_full)"
      ],
      "metadata": {
        "id": "KaZ_p_Q-N7Vd"
      },
      "execution_count": null,
      "outputs": []
    },
    {
      "cell_type": "code",
      "source": [
        "grammar_list = []\n",
        "grammar_list = cltk_doc.pos"
      ],
      "metadata": {
        "id": "bDXswCRDOhkB"
      },
      "execution_count": null,
      "outputs": []
    },
    {
      "cell_type": "code",
      "source": [
        "clear_grammar_list = []\n",
        "for i in tqdm(grammar_list):\n",
        "  if i !='PUNCT':\n",
        "      clear_grammar_list.append(i)"
      ],
      "metadata": {
        "colab": {
          "base_uri": "https://localhost:8080/",
          "height": 49,
          "referenced_widgets": [
            "04645535f6aa49ff8b486b6feb09eef6",
            "ff28671d99c948f397c7f23815ce41f0",
            "f6902cf6c69e402ca7b78527d4249e17",
            "f2f316ce3c73424691457ea5b4be191b",
            "52a9eb00c8154853a4919f34061ca401",
            "90d58782c0be48ad8bbbfa1f1e81877e",
            "7555055736f946569f744c090b5acfad",
            "7ec2fbc9e62d4fa4976ed18da74eb9fb",
            "b0e4465ad21c4a47a086d220a5446c65",
            "38242bb8cf7448849f58f7380a30f957",
            "8e801aaa619b40cdba9b683657718245"
          ]
        },
        "id": "DdV9I0s-OkFW",
        "outputId": "2a48b109-a339-4a32-f626-723334ae3d2e"
      },
      "execution_count": null,
      "outputs": [
        {
          "output_type": "display_data",
          "data": {
            "text/plain": [
              "  0%|          | 0/1169 [00:00<?, ?it/s]"
            ],
            "application/vnd.jupyter.widget-view+json": {
              "version_major": 2,
              "version_minor": 0,
              "model_id": "04645535f6aa49ff8b486b6feb09eef6"
            }
          },
          "metadata": {}
        }
      ]
    },
    {
      "cell_type": "code",
      "source": [
        "result = []\n",
        "b = bigrams(clear_grammar_list)\n",
        "result = [x for x in b]\n",
        "print(len(result))"
      ],
      "metadata": {
        "colab": {
          "base_uri": "https://localhost:8080/"
        },
        "id": "HHS6Y30bOrkn",
        "outputId": "7f4432d2-4b94-40c2-a348-7116a34da7f1"
      },
      "execution_count": null,
      "outputs": [
        {
          "output_type": "stream",
          "name": "stdout",
          "text": [
            "947\n"
          ]
        }
      ]
    },
    {
      "cell_type": "code",
      "source": [
        "count = Counter(result).most_common()"
      ],
      "metadata": {
        "id": "5mYshkUuOy2l"
      },
      "execution_count": null,
      "outputs": []
    },
    {
      "cell_type": "code",
      "source": [
        "new_item = []\n",
        "for i in tqdm(count):\n",
        "  a = round((i[1]/len(result))*100, 1)\n",
        "  new_item.append([*i[0], i[1], a, name_of_txt_file])\n",
        "new_item[:10]"
      ],
      "metadata": {
        "colab": {
          "base_uri": "https://localhost:8080/",
          "height": 231,
          "referenced_widgets": [
            "b9e0c216c53a4821974ed9c16c79917b",
            "073ddc395d8b4fbb901be34d1ecbd695",
            "94cbb8ac82dd43419fa24991c82a468a",
            "30f4320f53e846acaa5ebb303fbe0f80",
            "5dfa816e3f7346179401ab256142a92d",
            "91465bf69fb64bb1a0d0efcf5d0f0589",
            "70cce7bac31546c397b6db5ed2392936",
            "a51ae6f6cd0a4550a99a103d3d0ae431",
            "46f17d5e38e24c1a96f4e8353e65f8eb",
            "916a142166ed4731bbfc89e9048ff0ee",
            "7cc190efaf24477c8aa2640adc3f22c5"
          ]
        },
        "id": "oiPg596RO0IO",
        "outputId": "bef2fe17-263c-47ec-9c6f-4e526518e1d0"
      },
      "execution_count": null,
      "outputs": [
        {
          "output_type": "display_data",
          "data": {
            "text/plain": [
              "  0%|          | 0/163 [00:00<?, ?it/s]"
            ],
            "application/vnd.jupyter.widget-view+json": {
              "version_major": 2,
              "version_minor": 0,
              "model_id": "b9e0c216c53a4821974ed9c16c79917b"
            }
          },
          "metadata": {}
        },
        {
          "output_type": "execute_result",
          "data": {
            "text/plain": [
              "[['NOUN', 'VERB', 659, 6.1, 'Cicero_Pro Milone.txt'],\n",
              " ['NOUN', 'NOUN', 574, 5.4, 'Cicero_Pro Milone.txt'],\n",
              " ['VERB', 'VERB', 391, 3.6, 'Cicero_Pro Milone.txt'],\n",
              " ['VERB', 'NOUN', 386, 3.6, 'Cicero_Pro Milone.txt'],\n",
              " ['ADP', 'NOUN', 327, 3.1, 'Cicero_Pro Milone.txt'],\n",
              " ['PRON', 'VERB', 325, 3.0, 'Cicero_Pro Milone.txt'],\n",
              " ['VERB', 'PRON', 316, 2.9, 'Cicero_Pro Milone.txt'],\n",
              " ['ADJ', 'NOUN', 280, 2.6, 'Cicero_Pro Milone.txt'],\n",
              " ['DET', 'NOUN', 277, 2.6, 'Cicero_Pro Milone.txt'],\n",
              " ['NOUN', 'ADJ', 257, 2.4, 'Cicero_Pro Milone.txt']]"
            ]
          },
          "metadata": {},
          "execution_count": 317
        }
      ]
    },
    {
      "cell_type": "code",
      "source": [
        "for i in new_item:\n",
        "  new_row = i\n",
        "  df.loc[ len(df)] = new_row"
      ],
      "metadata": {
        "id": "OlzTuWuLRto2"
      },
      "execution_count": null,
      "outputs": []
    },
    {
      "cell_type": "code",
      "source": [
        "df = pd.DataFrame(new_item, columns=['Part of speech 1', 'Part of speech 2', 'Number of n-gramms', 'Frequency of n-gramms', 'Name of text'])"
      ],
      "metadata": {
        "id": "FVtv8liAQbf0"
      },
      "execution_count": null,
      "outputs": []
    },
    {
      "cell_type": "code",
      "source": [
        "print(df.nunique())"
      ],
      "metadata": {
        "id": "4KM0d2mzbDFy"
      },
      "execution_count": null,
      "outputs": []
    },
    {
      "cell_type": "markdown",
      "source": [
        "Отрисовываем график"
      ],
      "metadata": {
        "id": "EFGzSZIgnNWa"
      }
    },
    {
      "cell_type": "code",
      "source": [
        "df_for_plot = df.sort_values(by='Frequency of n-gramms', ascending=False)"
      ],
      "metadata": {
        "id": "7Zih7qPIk1ae"
      },
      "execution_count": null,
      "outputs": []
    },
    {
      "cell_type": "code",
      "source": [
        "number_lst = (list(range(0, 4161)))"
      ],
      "metadata": {
        "id": "TOyi0MB3p9i3"
      },
      "execution_count": null,
      "outputs": []
    },
    {
      "cell_type": "code",
      "source": [
        "df_for_plot['index'] = number_lst"
      ],
      "metadata": {
        "id": "rwUjL886rox9"
      },
      "execution_count": null,
      "outputs": []
    },
    {
      "cell_type": "code",
      "source": [
        "import matplotlib.pyplot as plt\n",
        "df_for_plot.groupby('index').sum()['Frequency of n-gramms'].plot(label=\"Все грамматические биграммы\")\n",
        "plt.plot([0, max(df.index)], [1,1], label='Базовая линия y = 1')\n",
        "plt.legend()"
      ],
      "metadata": {
        "colab": {
          "base_uri": "https://localhost:8080/",
          "height": 524
        },
        "id": "yKpB6mBvnQeF",
        "outputId": "0cc643c4-bf15-40ce-de4f-ee921b09e903"
      },
      "execution_count": null,
      "outputs": [
        {
          "output_type": "stream",
          "name": "stderr",
          "text": [
            "<ipython-input-372-3e3a3c3e68dc>:2: FutureWarning: The default value of numeric_only in DataFrameGroupBy.sum is deprecated. In a future version, numeric_only will default to False. Either specify numeric_only or select only columns which should be valid for the function.\n",
            "  df_for_plot.groupby('index').sum()['Frequency of n-gramms'].plot(label=\"Все грамматические биграммы\")\n"
          ]
        },
        {
          "output_type": "execute_result",
          "data": {
            "text/plain": [
              "<matplotlib.legend.Legend at 0x7f87c20cc520>"
            ]
          },
          "metadata": {},
          "execution_count": 372
        },
        {
          "output_type": "display_data",
          "data": {
            "text/plain": [
              "<Figure size 640x480 with 1 Axes>"
            ],
            "image/png": "[encoded data removed]"
          },
          "metadata": {}
        }
      ]
    },
    {
      "cell_type": "markdown",
      "source": [
        "Удаляем все биграммы с частотностью менее 1%"
      ],
      "metadata": {
        "id": "oSYnyzYff_c3"
      }
    },
    {
      "cell_type": "code",
      "source": [
        "new_df = df[df['Frequency of n-gramms'] > 1.0]"
      ],
      "metadata": {
        "id": "1y99ew0QiMRN"
      },
      "execution_count": null,
      "outputs": []
    },
    {
      "cell_type": "code",
      "source": [
        "len(df)"
      ],
      "metadata": {
        "colab": {
          "base_uri": "https://localhost:8080/"
        },
        "id": "ZRmQciNGkZvY",
        "outputId": "d4b0bed4-9e5a-406c-ff65-32c003f4e1ba"
      },
      "execution_count": null,
      "outputs": [
        {
          "output_type": "execute_result",
          "data": {
            "text/plain": [
              "4161"
            ]
          },
          "metadata": {},
          "execution_count": 339
        }
      ]
    },
    {
      "cell_type": "code",
      "source": [
        "len(new_df)"
      ],
      "metadata": {
        "colab": {
          "base_uri": "https://localhost:8080/"
        },
        "id": "JgEfYrcjkbIq",
        "outputId": "8cd81040-403d-457f-c16d-e9ea9b6c89aa"
      },
      "execution_count": null,
      "outputs": [
        {
          "output_type": "execute_result",
          "data": {
            "text/plain": [
              "763"
            ]
          },
          "metadata": {},
          "execution_count": 326
        }
      ]
    },
    {
      "cell_type": "code",
      "source": [
        "new_df.to_csv('grammar bigramms data.csv', index=True) #экспорт данных, далее все операции проводились с данными, импортируемыми из csv-файла"
      ],
      "metadata": {
        "id": "UZZS5noelL2H"
      },
      "execution_count": null,
      "outputs": []
    },
    {
      "cell_type": "markdown",
      "source": [
        "Отрисовка визуализации распределения текстов по частотности биграмм относительно друг друга"
      ],
      "metadata": {
        "id": "8cR_iu7fgOcV"
      }
    },
    {
      "cell_type": "code",
      "source": [
        "import numpy as np"
      ],
      "metadata": {
        "id": "EoXPtPW2Gu7t"
      },
      "execution_count": 1,
      "outputs": []
    },
    {
      "cell_type": "code",
      "source": [
        "import pandas as pd\n",
        "dt = pd.read_csv('grammar bigramms data.csv', sep=',')"
      ],
      "metadata": {
        "id": "lTQRffKBwUnh"
      },
      "execution_count": 3,
      "outputs": []
    },
    {
      "cell_type": "code",
      "source": [
        "dt['Bigramm'] = dt[['Part of speech 1', 'Part of speech 2']].apply(lambda a:a[0]+' '+a[1],\n",
        "                                                                   axis=1)"
      ],
      "metadata": {
        "id": "w7XumotgEsn8"
      },
      "execution_count": 5,
      "outputs": []
    },
    {
      "cell_type": "code",
      "source": [
        "dt"
      ],
      "metadata": {
        "id": "c-ym1I8xEtT6"
      },
      "execution_count": null,
      "outputs": []
    },
    {
      "cell_type": "code",
      "source": [
        "dt[dt['Bigramm'] == 'ADJ NOUN'].sort_values(\"Frequency of n-gramms\", ascending=False)"
      ],
      "metadata": {
        "id": "_DiOwNGnDTON"
      },
      "execution_count": null,
      "outputs": []
    },
    {
      "cell_type": "code",
      "source": [
        "dt['Bigramm'] = dt[['Part of speech 1', 'Part of speech 2']].apply(lambda a:a[0]+' '+a[1],\n",
        "                                                                   axis=1)"
      ],
      "metadata": {
        "id": "cRsXhVKN-OjC"
      },
      "execution_count": null,
      "outputs": []
    },
    {
      "cell_type": "code",
      "source": [
        "def compare_texts(df, Name_1, Name_2):\n",
        "  df_1 = df[df['Name of text'] == Name_1]\n",
        "  df_2 = df[df['Name of text'] == Name_2]\n",
        "  all_bigrams = set(df_1['Bigramm'].values.tolist() + df_2['Bigramm'].values.tolist())\n",
        "  diffs = []\n",
        "  for bigram in all_bigrams:\n",
        "    sub_df_1 = df_1[df_1['Bigramm'] == bigram]\n",
        "    if sub_df_1.shape[0] == 0:\n",
        "      proc_1 = 0\n",
        "    else:\n",
        "      proc_1 = sub_df_1['Frequency of n-gramms'].values[0]\n",
        "    sub_df_2 = df_2[df_2['Bigramm'] == bigram]\n",
        "    if sub_df_2.shape[0] == 0:\n",
        "      proc_2 = 0\n",
        "    else:\n",
        "      proc_2 = sub_df_2['Frequency of n-gramms'].values[0]\n",
        "    diffs.append(abs(proc_1 - proc_2))\n",
        "  #return sum(diffs)/len(all_bigrams)\n",
        "  return np.median(diffs)"
      ],
      "metadata": {
        "id": "G56aK4YBDJw9"
      },
      "execution_count": 43,
      "outputs": []
    },
    {
      "cell_type": "code",
      "source": [
        "compare_texts(dt, 'Bayer_De muro Caucaseo.txt', 'Bayer_De muro Caucaseo.txt')"
      ],
      "metadata": {
        "colab": {
          "base_uri": "https://localhost:8080/"
        },
        "id": "9E2gBFj8Feaj",
        "outputId": "2d378f18-a9c0-4f6c-e931-871eb2674664"
      },
      "execution_count": 25,
      "outputs": [
        {
          "output_type": "execute_result",
          "data": {
            "text/plain": [
              "0.0"
            ]
          },
          "metadata": {},
          "execution_count": 25
        }
      ]
    },
    {
      "cell_type": "code",
      "source": [
        "all_texts = dt['Name of text'].unique()\n",
        "n_texts = dt['Name of text'].unique().shape[0]\n",
        "m = np.zeros((n_texts, n_texts))\n",
        "dists = []\n",
        "for i in range(n_texts - 1):\n",
        "  for g in range(i+1, n_texts):\n",
        "    m[i, g] = m[g, i] = compare_texts(dt, all_texts[i], all_texts[g])\n",
        "    dists.append([i, g, m[i, g]])"
      ],
      "metadata": {
        "id": "_IcHlMT_Hq26"
      },
      "execution_count": 44,
      "outputs": []
    },
    {
      "cell_type": "code",
      "source": [
        "dists = np.array(dists)"
      ],
      "metadata": {
        "id": "xyIcY0WtKqgu"
      },
      "execution_count": 45,
      "outputs": []
    },
    {
      "cell_type": "code",
      "source": [
        "link_info"
      ],
      "metadata": {
        "id": "wFoedGPgREx6",
        "colab": {
          "base_uri": "https://localhost:8080/",
          "height": 424
        },
        "outputId": "7943462f-834b-4c43-a6d5-6545a17b3e9a"
      },
      "execution_count": 46,
      "outputs": [
        {
          "output_type": "execute_result",
          "data": {
            "text/plain": [
              "     node1  node2    length\n",
              "0      0.0    1.0  1.491825\n",
              "1      0.0    2.0  1.284025\n",
              "2      0.0    3.0  1.915541\n",
              "3      0.0    4.0  1.648721\n",
              "4      0.0    5.0  3.158193\n",
              "..     ...    ...       ...\n",
              "373   24.0   26.0  2.585710\n",
              "374   24.0   27.0  1.822119\n",
              "375   25.0   26.0  1.822119\n",
              "376   25.0   27.0  1.568312\n",
              "377   26.0   27.0  1.221403\n",
              "\n",
              "[378 rows x 3 columns]"
            ],
            "text/html": [
              "\n",
              "  <div id=\"df-e75bdccc-3974-4e16-8e46-0738c1207b6e\">\n",
              "    <div class=\"colab-df-container\">\n",
              "      <div>\n",
              "<style scoped>\n",
              "    .dataframe tbody tr th:only-of-type {\n",
              "        vertical-align: middle;\n",
              "    }\n",
              "\n",
              "    .dataframe tbody tr th {\n",
              "        vertical-align: top;\n",
              "    }\n",
              "\n",
              "    .dataframe thead th {\n",
              "        text-align: right;\n",
              "    }\n",
              "</style>\n",
              "<table border=\"1\" class=\"dataframe\">\n",
              "  <thead>\n",
              "    <tr style=\"text-align: right;\">\n",
              "      <th></th>\n",
              "      <th>node1</th>\n",
              "      <th>node2</th>\n",
              "      <th>length</th>\n",
              "    </tr>\n",
              "  </thead>\n",
              "  <tbody>\n",
              "    <tr>\n",
              "      <th>0</th>\n",
              "      <td>0.0</td>\n",
              "      <td>1.0</td>\n",
              "      <td>1.491825</td>\n",
              "    </tr>\n",
              "    <tr>\n",
              "      <th>1</th>\n",
              "      <td>0.0</td>\n",
              "      <td>2.0</td>\n",
              "      <td>1.284025</td>\n",
              "    </tr>\n",
              "    <tr>\n",
              "      <th>2</th>\n",
              "      <td>0.0</td>\n",
              "      <td>3.0</td>\n",
              "      <td>1.915541</td>\n",
              "    </tr>\n",
              "    <tr>\n",
              "      <th>3</th>\n",
              "      <td>0.0</td>\n",
              "      <td>4.0</td>\n",
              "      <td>1.648721</td>\n",
              "    </tr>\n",
              "    <tr>\n",
              "      <th>4</th>\n",
              "      <td>0.0</td>\n",
              "      <td>5.0</td>\n",
              "      <td>3.158193</td>\n",
              "    </tr>\n",
              "    <tr>\n",
              "      <th>...</th>\n",
              "      <td>...</td>\n",
              "      <td>...</td>\n",
              "      <td>...</td>\n",
              "    </tr>\n",
              "    <tr>\n",
              "      <th>373</th>\n",
              "      <td>24.0</td>\n",
              "      <td>26.0</td>\n",
              "      <td>2.585710</td>\n",
              "    </tr>\n",
              "    <tr>\n",
              "      <th>374</th>\n",
              "      <td>24.0</td>\n",
              "      <td>27.0</td>\n",
              "      <td>1.822119</td>\n",
              "    </tr>\n",
              "    <tr>\n",
              "      <th>375</th>\n",
              "      <td>25.0</td>\n",
              "      <td>26.0</td>\n",
              "      <td>1.822119</td>\n",
              "    </tr>\n",
              "    <tr>\n",
              "      <th>376</th>\n",
              "      <td>25.0</td>\n",
              "      <td>27.0</td>\n",
              "      <td>1.568312</td>\n",
              "    </tr>\n",
              "    <tr>\n",
              "      <th>377</th>\n",
              "      <td>26.0</td>\n",
              "      <td>27.0</td>\n",
              "      <td>1.221403</td>\n",
              "    </tr>\n",
              "  </tbody>\n",
              "</table>\n",
              "<p>378 rows × 3 columns</p>\n",
              "</div>\n",
              "      <button class=\"colab-df-convert\" onclick=\"convertToInteractive('df-e75bdccc-3974-4e16-8e46-0738c1207b6e')\"\n",
              "              title=\"Convert this dataframe to an interactive table.\"\n",
              "              style=\"display:none;\">\n",
              "        \n",
              "  <svg xmlns=\"http://www.w3.org/2000/svg\" height=\"24px\"viewBox=\"0 0 24 24\"\n",
              "       width=\"24px\">\n",
              "    <path d=\"M0 0h24v24H0V0z\" fill=\"none\"/>\n",
              "    <path d=\"M18.56 5.44l.94 2.06.94-2.06 2.06-.94-2.06-.94-.94-2.06-.94 2.06-2.06.94zm-11 1L8.5 8.5l.94-2.06 2.06-.94-2.06-.94L8.5 2.5l-.94 2.06-2.06.94zm10 10l.94 2.06.94-2.06 2.06-.94-2.06-.94-.94-2.06-.94 2.06-2.06.94z\"/><path d=\"M17.41 7.96l-1.37-1.37c-.4-.4-.92-.59-1.43-.59-.52 0-1.04.2-1.43.59L10.3 9.45l-7.72 7.72c-.78.78-.78 2.05 0 2.83L4 21.41c.39.39.9.59 1.41.59.51 0 1.02-.2 1.41-.59l7.78-7.78 2.81-2.81c.8-.78.8-2.07 0-2.86zM5.41 20L4 18.59l7.72-7.72 1.47 1.35L5.41 20z\"/>\n",
              "  </svg>\n",
              "      </button>\n",
              "      \n",
              "  <style>\n",
              "    .colab-df-container {\n",
              "      display:flex;\n",
              "      flex-wrap:wrap;\n",
              "      gap: 12px;\n",
              "    }\n",
              "\n",
              "    .colab-df-convert {\n",
              "      background-color: #E8F0FE;\n",
              "      border: none;\n",
              "      border-radius: 50%;\n",
              "      cursor: pointer;\n",
              "      display: none;\n",
              "      fill: #1967D2;\n",
              "      height: 32px;\n",
              "      padding: 0 0 0 0;\n",
              "      width: 32px;\n",
              "    }\n",
              "\n",
              "    .colab-df-convert:hover {\n",
              "      background-color: #E2EBFA;\n",
              "      box-shadow: 0px 1px 2px rgba(60, 64, 67, 0.3), 0px 1px 3px 1px rgba(60, 64, 67, 0.15);\n",
              "      fill: #174EA6;\n",
              "    }\n",
              "\n",
              "    [theme=dark] .colab-df-convert {\n",
              "      background-color: #3B4455;\n",
              "      fill: #D2E3FC;\n",
              "    }\n",
              "\n",
              "    [theme=dark] .colab-df-convert:hover {\n",
              "      background-color: #434B5C;\n",
              "      box-shadow: 0px 1px 3px 1px rgba(0, 0, 0, 0.15);\n",
              "      filter: drop-shadow(0px 1px 2px rgba(0, 0, 0, 0.3));\n",
              "      fill: #FFFFFF;\n",
              "    }\n",
              "  </style>\n",
              "\n",
              "      <script>\n",
              "        const buttonEl =\n",
              "          document.querySelector('#df-e75bdccc-3974-4e16-8e46-0738c1207b6e button.colab-df-convert');\n",
              "        buttonEl.style.display =\n",
              "          google.colab.kernel.accessAllowed ? 'block' : 'none';\n",
              "\n",
              "        async function convertToInteractive(key) {\n",
              "          const element = document.querySelector('#df-e75bdccc-3974-4e16-8e46-0738c1207b6e');\n",
              "          const dataTable =\n",
              "            await google.colab.kernel.invokeFunction('convertToInteractive',\n",
              "                                                     [key], {});\n",
              "          if (!dataTable) return;\n",
              "\n",
              "          const docLinkHtml = 'Like what you see? Visit the ' +\n",
              "            '<a target=\"_blank\" href=https://colab.research.google.com/notebooks/data_table.ipynb>data table notebook</a>'\n",
              "            + ' to learn more about interactive tables.';\n",
              "          element.innerHTML = '';\n",
              "          dataTable['output_type'] = 'display_data';\n",
              "          await google.colab.output.renderOutput(dataTable, element);\n",
              "          const docLink = document.createElement('div');\n",
              "          docLink.innerHTML = docLinkHtml;\n",
              "          element.appendChild(docLink);\n",
              "        }\n",
              "      </script>\n",
              "    </div>\n",
              "  </div>\n",
              "  "
            ]
          },
          "metadata": {},
          "execution_count": 46
        }
      ]
    },
    {
      "cell_type": "code",
      "source": [
        "link_info = pd.DataFrame(dists, columns=['node1', 'node2', 'length'])"
      ],
      "metadata": {
        "id": "8kZkcddkKuQk"
      },
      "execution_count": 47,
      "outputs": []
    },
    {
      "cell_type": "code",
      "source": [
        "def f(coords):\n",
        "    all_coords = np.vstack((np.zeros((1,2)), \n",
        "                            coords.reshape((-1,2))))\n",
        "    \n",
        "    dists = np.linalg.norm(all_coords[link_info[\"node1\"].values] - all_coords[link_info[\"node2\"].values], \n",
        "                           axis=1)\n",
        "    \n",
        "    err = (dists - link_info[\"length\"]) ** 2\n",
        "    \n",
        "    return np.sum(err)\n",
        "\n",
        "def df(coords):\n",
        "    all_coords = np.vstack((np.zeros((1,2)), \n",
        "                            coords.reshape((-1, 2))))\n",
        "    dists = np.linalg.norm(all_coords[link_info[\"node1\"].values] - all_coords[link_info[\"node2\"].values], \n",
        "                           axis=1)\n",
        "    lin_err = (dists - link_info[\"length\"])\n",
        "    \n",
        "    dfs = np.zeros((len(all_coords) - 1, 2))\n",
        "    for j, (xi, yi, l) in enumerate(link_info[[\"node1\", \"node2\", \"length\"]].values):\n",
        "        #print(j, xi, yi, l)\n",
        "        loc_df = 2 * (dists[j] - l) * (all_coords[int(xi)] - all_coords[int(yi)]) / dists[j]\n",
        "        \n",
        "        if int(xi) != 0:\n",
        "            dfs[int(xi) - 1] += loc_df\n",
        "        if int(yi) != 0:\n",
        "            dfs[int(yi) - 1] -= loc_df\n",
        "            \n",
        "    return dfs.reshape(-1)\n",
        "\n",
        "from scipy.optimize import minimize"
      ],
      "metadata": {
        "id": "otvYV9amLKmO"
      },
      "execution_count": 48,
      "outputs": []
    },
    {
      "cell_type": "code",
      "source": [
        "min_res = minimize(f, \n",
        "                   x0=np.random.randint(-400, 400, 27 * 2).astype(float), \n",
        "                   jac=df)"
      ],
      "metadata": {
        "id": "sjr5C_XPMFnO"
      },
      "execution_count": null,
      "outputs": []
    },
    {
      "cell_type": "code",
      "source": [
        "text_coords = np.vstack((np.zeros((1,2)), min_res.x.reshape((-1, 2))))"
      ],
      "metadata": {
        "id": "W52e2K6KNaAl"
      },
      "execution_count": null,
      "outputs": []
    },
    {
      "cell_type": "code",
      "source": [
        "import matplotlib.pyplot as plt"
      ],
      "metadata": {
        "id": "QwMzP7rZN11M"
      },
      "execution_count": null,
      "outputs": []
    },
    {
      "cell_type": "code",
      "source": [
        "_,ax=plt.subplots(1,1,figsize=(15, 15))\n",
        "ax.scatter(*text_coords.T)\n",
        "for i in range(len(text_coords)):\n",
        "  ax.text(*text_coords[i], all_texts[i])"
      ],
      "metadata": {
        "colab": {
          "base_uri": "https://localhost:8080/",
          "height": 1000
        },
        "id": "UrgwJuzLN9J8",
        "outputId": "c5cc20a3-fc3a-4223-96e1-4b4f2e4d2ea5"
      },
      "execution_count": null,
      "outputs": [
        {
          "output_type": "display_data",
          "data": {
            "text/plain": [
              "<Figure size 1500x1500 with 1 Axes>"
            ],
            "image/png": "[encoded data removed]"
          },
          "metadata": {}
        }
      ]
    },
    {
      "cell_type": "code",
      "source": [
        "distance_df = pd.DataFrame(m, columns=all_texts, index=all_texts)"
      ],
      "metadata": {
        "id": "0RGZio2lI_cE"
      },
      "execution_count": null,
      "outputs": []
    },
    {
      "cell_type": "markdown",
      "source": [
        "Здесь мы смотрим на топ-1, 2, 3 и т.д. биграмм в каждом из текстов"
      ],
      "metadata": {
        "id": "qXb7bZGdggJi"
      }
    },
    {
      "cell_type": "code",
      "source": [
        "dt = pd.read_csv('grammar bigramms data.csv', sep=',')\n",
        "dt"
      ],
      "metadata": {
        "colab": {
          "base_uri": "https://localhost:8080/",
          "height": 682
        },
        "id": "AUze3-mDAzKV",
        "outputId": "65ad0c53-8323-4110-b34f-2641f48d29f2"
      },
      "execution_count": null,
      "outputs": [
        {
          "output_type": "execute_result",
          "data": {
            "text/plain": [
              "     Unnamed: 0 Part of speech 1 Part of speech 2  Number of n-gramms  \\\n",
              "0             0             NOUN             NOUN                 659   \n",
              "1             1             NOUN             VERB                 555   \n",
              "2             2              ADP             NOUN                 412   \n",
              "3             3             VERB             NOUN                 290   \n",
              "4             4              ADJ             NOUN                 266   \n",
              "..          ...              ...              ...                 ...   \n",
              "758        4022             VERB              AUX                 129   \n",
              "759        4023            CCONJ             NOUN                 128   \n",
              "760        4024              ADJ             VERB                 122   \n",
              "761        4025             NOUN              ADV                 122   \n",
              "762        4026             NOUN            SCONJ                 115   \n",
              "\n",
              "     Frequency of n-gramms                Name of text     Bigramm  \n",
              "0                      8.5  Bayer_De muro Caucaseo.txt   NOUN NOUN  \n",
              "1                      7.1  Bayer_De muro Caucaseo.txt   NOUN VERB  \n",
              "2                      5.3  Bayer_De muro Caucaseo.txt    ADP NOUN  \n",
              "3                      3.7  Bayer_De muro Caucaseo.txt   VERB NOUN  \n",
              "4                      3.4  Bayer_De muro Caucaseo.txt    ADJ NOUN  \n",
              "..                     ...                         ...         ...  \n",
              "758                    1.2       Cicero_Pro Milone.txt    VERB AUX  \n",
              "759                    1.2       Cicero_Pro Milone.txt  CCONJ NOUN  \n",
              "760                    1.1       Cicero_Pro Milone.txt    ADJ VERB  \n",
              "761                    1.1       Cicero_Pro Milone.txt    NOUN ADV  \n",
              "762                    1.1       Cicero_Pro Milone.txt  NOUN SCONJ  \n",
              "\n",
              "[763 rows x 7 columns]"
            ],
            "text/html": [
              "\n",
              "  <div id=\"df-0dfc9f20-cbd8-49cc-86f8-86237447af05\">\n",
              "    <div class=\"colab-df-container\">\n",
              "      <div>\n",
              "<style scoped>\n",
              "    .dataframe tbody tr th:only-of-type {\n",
              "        vertical-align: middle;\n",
              "    }\n",
              "\n",
              "    .dataframe tbody tr th {\n",
              "        vertical-align: top;\n",
              "    }\n",
              "\n",
              "    .dataframe thead th {\n",
              "        text-align: right;\n",
              "    }\n",
              "</style>\n",
              "<table border=\"1\" class=\"dataframe\">\n",
              "  <thead>\n",
              "    <tr style=\"text-align: right;\">\n",
              "      <th></th>\n",
              "      <th>Unnamed: 0</th>\n",
              "      <th>Part of speech 1</th>\n",
              "      <th>Part of speech 2</th>\n",
              "      <th>Number of n-gramms</th>\n",
              "      <th>Frequency of n-gramms</th>\n",
              "      <th>Name of text</th>\n",
              "      <th>Bigramm</th>\n",
              "    </tr>\n",
              "  </thead>\n",
              "  <tbody>\n",
              "    <tr>\n",
              "      <th>0</th>\n",
              "      <td>0</td>\n",
              "      <td>NOUN</td>\n",
              "      <td>NOUN</td>\n",
              "      <td>659</td>\n",
              "      <td>8.5</td>\n",
              "      <td>Bayer_De muro Caucaseo.txt</td>\n",
              "      <td>NOUN NOUN</td>\n",
              "    </tr>\n",
              "    <tr>\n",
              "      <th>1</th>\n",
              "      <td>1</td>\n",
              "      <td>NOUN</td>\n",
              "      <td>VERB</td>\n",
              "      <td>555</td>\n",
              "      <td>7.1</td>\n",
              "      <td>Bayer_De muro Caucaseo.txt</td>\n",
              "      <td>NOUN VERB</td>\n",
              "    </tr>\n",
              "    <tr>\n",
              "      <th>2</th>\n",
              "      <td>2</td>\n",
              "      <td>ADP</td>\n",
              "      <td>NOUN</td>\n",
              "      <td>412</td>\n",
              "      <td>5.3</td>\n",
              "      <td>Bayer_De muro Caucaseo.txt</td>\n",
              "      <td>ADP NOUN</td>\n",
              "    </tr>\n",
              "    <tr>\n",
              "      <th>3</th>\n",
              "      <td>3</td>\n",
              "      <td>VERB</td>\n",
              "      <td>NOUN</td>\n",
              "      <td>290</td>\n",
              "      <td>3.7</td>\n",
              "      <td>Bayer_De muro Caucaseo.txt</td>\n",
              "      <td>VERB NOUN</td>\n",
              "    </tr>\n",
              "    <tr>\n",
              "      <th>4</th>\n",
              "      <td>4</td>\n",
              "      <td>ADJ</td>\n",
              "      <td>NOUN</td>\n",
              "      <td>266</td>\n",
              "      <td>3.4</td>\n",
              "      <td>Bayer_De muro Caucaseo.txt</td>\n",
              "      <td>ADJ NOUN</td>\n",
              "    </tr>\n",
              "    <tr>\n",
              "      <th>...</th>\n",
              "      <td>...</td>\n",
              "      <td>...</td>\n",
              "      <td>...</td>\n",
              "      <td>...</td>\n",
              "      <td>...</td>\n",
              "      <td>...</td>\n",
              "      <td>...</td>\n",
              "    </tr>\n",
              "    <tr>\n",
              "      <th>758</th>\n",
              "      <td>4022</td>\n",
              "      <td>VERB</td>\n",
              "      <td>AUX</td>\n",
              "      <td>129</td>\n",
              "      <td>1.2</td>\n",
              "      <td>Cicero_Pro Milone.txt</td>\n",
              "      <td>VERB AUX</td>\n",
              "    </tr>\n",
              "    <tr>\n",
              "      <th>759</th>\n",
              "      <td>4023</td>\n",
              "      <td>CCONJ</td>\n",
              "      <td>NOUN</td>\n",
              "      <td>128</td>\n",
              "      <td>1.2</td>\n",
              "      <td>Cicero_Pro Milone.txt</td>\n",
              "      <td>CCONJ NOUN</td>\n",
              "    </tr>\n",
              "    <tr>\n",
              "      <th>760</th>\n",
              "      <td>4024</td>\n",
              "      <td>ADJ</td>\n",
              "      <td>VERB</td>\n",
              "      <td>122</td>\n",
              "      <td>1.1</td>\n",
              "      <td>Cicero_Pro Milone.txt</td>\n",
              "      <td>ADJ VERB</td>\n",
              "    </tr>\n",
              "    <tr>\n",
              "      <th>761</th>\n",
              "      <td>4025</td>\n",
              "      <td>NOUN</td>\n",
              "      <td>ADV</td>\n",
              "      <td>122</td>\n",
              "      <td>1.1</td>\n",
              "      <td>Cicero_Pro Milone.txt</td>\n",
              "      <td>NOUN ADV</td>\n",
              "    </tr>\n",
              "    <tr>\n",
              "      <th>762</th>\n",
              "      <td>4026</td>\n",
              "      <td>NOUN</td>\n",
              "      <td>SCONJ</td>\n",
              "      <td>115</td>\n",
              "      <td>1.1</td>\n",
              "      <td>Cicero_Pro Milone.txt</td>\n",
              "      <td>NOUN SCONJ</td>\n",
              "    </tr>\n",
              "  </tbody>\n",
              "</table>\n",
              "<p>763 rows × 7 columns</p>\n",
              "</div>\n",
              "      <button class=\"colab-df-convert\" onclick=\"convertToInteractive('df-0dfc9f20-cbd8-49cc-86f8-86237447af05')\"\n",
              "              title=\"Convert this dataframe to an interactive table.\"\n",
              "              style=\"display:none;\">\n",
              "        \n",
              "  <svg xmlns=\"http://www.w3.org/2000/svg\" height=\"24px\"viewBox=\"0 0 24 24\"\n",
              "       width=\"24px\">\n",
              "    <path d=\"M0 0h24v24H0V0z\" fill=\"none\"/>\n",
              "    <path d=\"M18.56 5.44l.94 2.06.94-2.06 2.06-.94-2.06-.94-.94-2.06-.94 2.06-2.06.94zm-11 1L8.5 8.5l.94-2.06 2.06-.94-2.06-.94L8.5 2.5l-.94 2.06-2.06.94zm10 10l.94 2.06.94-2.06 2.06-.94-2.06-.94-.94-2.06-.94 2.06-2.06.94z\"/><path d=\"M17.41 7.96l-1.37-1.37c-.4-.4-.92-.59-1.43-.59-.52 0-1.04.2-1.43.59L10.3 9.45l-7.72 7.72c-.78.78-.78 2.05 0 2.83L4 21.41c.39.39.9.59 1.41.59.51 0 1.02-.2 1.41-.59l7.78-7.78 2.81-2.81c.8-.78.8-2.07 0-2.86zM5.41 20L4 18.59l7.72-7.72 1.47 1.35L5.41 20z\"/>\n",
              "  </svg>\n",
              "      </button>\n",
              "      \n",
              "  <style>\n",
              "    .colab-df-container {\n",
              "      display:flex;\n",
              "      flex-wrap:wrap;\n",
              "      gap: 12px;\n",
              "    }\n",
              "\n",
              "    .colab-df-convert {\n",
              "      background-color: #E8F0FE;\n",
              "      border: none;\n",
              "      border-radius: 50%;\n",
              "      cursor: pointer;\n",
              "      display: none;\n",
              "      fill: #1967D2;\n",
              "      height: 32px;\n",
              "      padding: 0 0 0 0;\n",
              "      width: 32px;\n",
              "    }\n",
              "\n",
              "    .colab-df-convert:hover {\n",
              "      background-color: #E2EBFA;\n",
              "      box-shadow: 0px 1px 2px rgba(60, 64, 67, 0.3), 0px 1px 3px 1px rgba(60, 64, 67, 0.15);\n",
              "      fill: #174EA6;\n",
              "    }\n",
              "\n",
              "    [theme=dark] .colab-df-convert {\n",
              "      background-color: #3B4455;\n",
              "      fill: #D2E3FC;\n",
              "    }\n",
              "\n",
              "    [theme=dark] .colab-df-convert:hover {\n",
              "      background-color: #434B5C;\n",
              "      box-shadow: 0px 1px 3px 1px rgba(0, 0, 0, 0.15);\n",
              "      filter: drop-shadow(0px 1px 2px rgba(0, 0, 0, 0.3));\n",
              "      fill: #FFFFFF;\n",
              "    }\n",
              "  </style>\n",
              "\n",
              "      <script>\n",
              "        const buttonEl =\n",
              "          document.querySelector('#df-0dfc9f20-cbd8-49cc-86f8-86237447af05 button.colab-df-convert');\n",
              "        buttonEl.style.display =\n",
              "          google.colab.kernel.accessAllowed ? 'block' : 'none';\n",
              "\n",
              "        async function convertToInteractive(key) {\n",
              "          const element = document.querySelector('#df-0dfc9f20-cbd8-49cc-86f8-86237447af05');\n",
              "          const dataTable =\n",
              "            await google.colab.kernel.invokeFunction('convertToInteractive',\n",
              "                                                     [key], {});\n",
              "          if (!dataTable) return;\n",
              "\n",
              "          const docLinkHtml = 'Like what you see? Visit the ' +\n",
              "            '<a target=\"_blank\" href=https://colab.research.google.com/notebooks/data_table.ipynb>data table notebook</a>'\n",
              "            + ' to learn more about interactive tables.';\n",
              "          element.innerHTML = '';\n",
              "          dataTable['output_type'] = 'display_data';\n",
              "          await google.colab.output.renderOutput(dataTable, element);\n",
              "          const docLink = document.createElement('div');\n",
              "          docLink.innerHTML = docLinkHtml;\n",
              "          element.appendChild(docLink);\n",
              "        }\n",
              "      </script>\n",
              "    </div>\n",
              "  </div>\n",
              "  "
            ]
          },
          "metadata": {},
          "execution_count": 4
        }
      ]
    },
    {
      "cell_type": "code",
      "source": [
        "def get_word(subdf, num):\n",
        "    sorted_subdf = subdf.sort_values(\"Frequency of n-gramms\", ascending=False)\n",
        "    return sorted_subdf.iloc[num]"
      ],
      "metadata": {
        "id": "3o2uvRXSc2z6"
      },
      "execution_count": null,
      "outputs": []
    },
    {
      "cell_type": "code",
      "source": [
        "top_1 = dt.groupby(\"Name of text\").agg(get_word, \n",
        "                            num=0\n",
        "                           )"
      ],
      "metadata": {
        "id": "PtMer2UBc5ah"
      },
      "execution_count": null,
      "outputs": []
    },
    {
      "cell_type": "code",
      "source": [
        "top_1.to_csv('top1.csv', index=True) #экспорт данных"
      ],
      "metadata": {
        "id": "d7fTJw9veF3h"
      },
      "execution_count": null,
      "outputs": []
    },
    {
      "cell_type": "code",
      "source": [
        "top_2 = dt.groupby(\"Name of text\").agg(get_word, \n",
        "                            num=1\n",
        "                           )"
      ],
      "metadata": {
        "id": "W0UAAASKfBDH"
      },
      "execution_count": null,
      "outputs": []
    },
    {
      "cell_type": "code",
      "source": [
        "top_2.to_csv('top2.csv', index=True) #экспорт данных"
      ],
      "metadata": {
        "id": "LRecTnexfC4u"
      },
      "execution_count": null,
      "outputs": []
    }
  ]
}